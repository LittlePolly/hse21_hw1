{
  "nbformat": 4,
  "nbformat_minor": 0,
  "metadata": {
    "colab": {
      "name": "pvzelina_hw1.ipynb",
      "provenance": [],
      "collapsed_sections": []
    },
    "kernelspec": {
      "name": "python3",
      "display_name": "Python 3"
    },
    "language_info": {
      "name": "python"
    }
  },
  "cells": [
    {
      "cell_type": "markdown",
      "metadata": {
        "id": "FgvRqPXtycY-"
      },
      "source": [
        "Контиги"
      ]
    },
    {
      "cell_type": "code",
      "metadata": {
        "colab": {
          "base_uri": "https://localhost:8080/"
        },
        "id": "ymw6AyKryezC",
        "outputId": "c495e347-1eaf-4f52-cc78-6ca411559cc1"
      },
      "source": [
        "! grep -c '>' Poil_contig.fa #amount"
      ],
      "execution_count": 1,
      "outputs": [
        {
          "output_type": "stream",
          "name": "stdout",
          "text": [
            "613\n"
          ]
        }
      ]
    },
    {
      "cell_type": "code",
      "metadata": {
        "colab": {
          "base_uri": "https://localhost:8080/"
        },
        "id": "MxaR8nOD0NJb",
        "outputId": "514b4d55-1024-4eb8-bc81-09e764d7a448"
      },
      "source": [
        "! grep -o 'len[1234567890]*' Poil_contig.fa >> f_contig\n",
        "lst = open('f_contig').read().splitlines()\n",
        "sum = 0\n",
        "for i in range(len(lst)):\n",
        "  lst[i] = (int)(lst[i][3:])\n",
        "  sum = sum + (lst[i])\n",
        "sum #sum"
      ],
      "execution_count": 2,
      "outputs": [
        {
          "output_type": "execute_result",
          "data": {
            "text/plain": [
              "3925593"
            ]
          },
          "metadata": {},
          "execution_count": 2
        }
      ]
    },
    {
      "cell_type": "code",
      "metadata": {
        "colab": {
          "base_uri": "https://localhost:8080/"
        },
        "id": "m69CGyAX03uh",
        "outputId": "84c00079-4e9c-4f26-c77b-a522511984c3"
      },
      "source": [
        "max(lst) #max"
      ],
      "execution_count": 3,
      "outputs": [
        {
          "output_type": "execute_result",
          "data": {
            "text/plain": [
              "179307"
            ]
          },
          "metadata": {},
          "execution_count": 3
        }
      ]
    },
    {
      "cell_type": "code",
      "metadata": {
        "colab": {
          "base_uri": "https://localhost:8080/"
        },
        "id": "xdvRVx_11kJQ",
        "outputId": "b3d13353-e4a8-4c1b-981d-3283a87de47b"
      },
      "source": [
        "sub_sum = 0\n",
        "for i in range(len(lst)):\n",
        "  sub_sum = sub_sum + lst[i]\n",
        "  if sub_sum >= sum/2:\n",
        "    print(i)\n",
        "    break\n",
        "print(lst[i]) #n50"
      ],
      "execution_count": 4,
      "outputs": [
        {
          "output_type": "stream",
          "name": "stdout",
          "text": [
            "323\n",
            "24464\n"
          ]
        }
      ]
    },
    {
      "cell_type": "markdown",
      "metadata": {
        "id": "ZeYKsl2o2O0i"
      },
      "source": [
        "Скаффолды"
      ]
    },
    {
      "cell_type": "code",
      "metadata": {
        "colab": {
          "base_uri": "https://localhost:8080/"
        },
        "id": "CEZ8LYbB2Hyo",
        "outputId": "52027d67-a300-4920-fdc8-4721eaa32140"
      },
      "source": [
        "! grep -c '>' Poil_scaffold.fa #amount"
      ],
      "execution_count": 6,
      "outputs": [
        {
          "output_type": "stream",
          "name": "stdout",
          "text": [
            "69\n"
          ]
        }
      ]
    },
    {
      "cell_type": "code",
      "metadata": {
        "colab": {
          "base_uri": "https://localhost:8080/"
        },
        "id": "x8w03qoF2Yth",
        "outputId": "83936293-1be3-4e93-9ef7-d7a95278a16e"
      },
      "source": [
        "! grep -o 'len[1234567890]*' Poil_scaffold.fa >> f_scaffold\n",
        "lst = []\n",
        "lst = open('f_scaffold').read().splitlines()\n",
        "sum = 0\n",
        "for i in range(len(lst)):\n",
        "  lst[i] = (int)(lst[i][3:])\n",
        "  sum = sum + (lst[i])\n",
        "sum #sum"
      ],
      "execution_count": 7,
      "outputs": [
        {
          "output_type": "execute_result",
          "data": {
            "text/plain": [
              "3876617"
            ]
          },
          "metadata": {},
          "execution_count": 7
        }
      ]
    },
    {
      "cell_type": "code",
      "metadata": {
        "colab": {
          "base_uri": "https://localhost:8080/"
        },
        "id": "2LatqjPG2anj",
        "outputId": "564b0f62-7aa0-401f-cd35-75cba88a190d"
      },
      "source": [
        "max(lst) #max"
      ],
      "execution_count": 8,
      "outputs": [
        {
          "output_type": "execute_result",
          "data": {
            "text/plain": [
              "3838446"
            ]
          },
          "metadata": {},
          "execution_count": 8
        }
      ]
    },
    {
      "cell_type": "code",
      "metadata": {
        "colab": {
          "base_uri": "https://localhost:8080/"
        },
        "id": "LiQ1mpdG2cAi",
        "outputId": "8b357eb7-6636-4b4b-c4d1-fadec37f70be"
      },
      "source": [
        "sub_sum = 0\n",
        "for i in range(len(lst)):\n",
        "  sub_sum = sub_sum + lst[i]\n",
        "  if sub_sum >= sum/2:\n",
        "    print(i)\n",
        "    break\n",
        "print(lst[i]) #n50"
      ],
      "execution_count": 9,
      "outputs": [
        {
          "output_type": "stream",
          "name": "stdout",
          "text": [
            "0\n",
            "3838446\n"
          ]
        }
      ]
    },
    {
      "cell_type": "code",
      "metadata": {
        "colab": {
          "base_uri": "https://localhost:8080/"
        },
        "id": "KPdZXHN123M9",
        "outputId": "fbcc8c99-aa96-4753-bef7-c19a89922bc2"
      },
      "source": [
        "! grep 'len3838446' Poil_scaffold.fa"
      ],
      "execution_count": 10,
      "outputs": [
        {
          "output_type": "stream",
          "name": "stdout",
          "text": [
            ">scaffold1_len3838446_cov232\n"
          ]
        }
      ]
    },
    {
      "cell_type": "code",
      "metadata": {
        "id": "uwgNE_U6S_jV"
      },
      "source": [
        ""
      ],
      "execution_count": null,
      "outputs": []
    }
  ]
}